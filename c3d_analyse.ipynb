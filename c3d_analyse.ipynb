{
 "cells": [
  {
   "cell_type": "code",
   "execution_count": 124,
   "metadata": {},
   "outputs": [],
   "source": [
    "import os\n",
    "import c3d\n",
    "import glob2\n",
    "import math\n",
    "import numpy as np\n",
    "from mayavi.mlab import *\n",
    "import matplotlib as mpl\n",
    "import matplotlib.pyplot as plt\n",
    "# import matplotlib.animation as animation\n",
    "from matplotlib import animation, rc\n",
    "from mpl_toolkits.mplot3d import Axes3D\n",
    "\n",
    "from IPython.display import HTML, Image\n",
    "\n",
    "%matplotlib qt"
   ]
  },
  {
   "cell_type": "code",
   "execution_count": 125,
   "metadata": {},
   "outputs": [],
   "source": [
    "rc('animation', html='html5')"
   ]
  },
  {
   "cell_type": "code",
   "execution_count": 15,
   "metadata": {
    "scrolled": true
   },
   "outputs": [],
   "source": [
    "# example 3d plotting\n",
    "fig = plt.figure()\n",
    "ax = fig.add_subplot(111, projection='3d')\n",
    "\n",
    "x = [1,2,3,4,5,6,7,8,9,10]\n",
    "y = [5,6,2,3,13,4,1,2,4,8]\n",
    "z = [2,3,3,3,5,7,9,11,9,10]\n",
    "\n",
    "ax.scatter(x, y, z, c='r', marker='o') # scatter plot\n",
    "\n",
    "ax.set_xlabel('x_axis')\n",
    "ax.set_ylabel('y_axis')\n",
    "ax.set_zlabel('z_axis')\n",
    "\n",
    "plt.show()"
   ]
  },
  {
   "cell_type": "code",
   "execution_count": 16,
   "metadata": {
    "scrolled": true
   },
   "outputs": [],
   "source": [
    "fig = plt.figure()\n",
    "ax = fig.add_subplot(111, projection='3d')\n",
    "X, Y, Z = [1,2,3,4,5,6,7,8,9,10],[5,6,2,3,13,4,1,2,4,8],[2,3,3,3,5,7,9,11,9,10]\n",
    "ax.plot(X, Y, Z, label='parametric curve')\n",
    "\n",
    "plt.show()"
   ]
  },
  {
   "cell_type": "code",
   "execution_count": 17,
   "metadata": {},
   "outputs": [],
   "source": [
    "mpl.rcParams['legend.fontsize'] = 10\n",
    "\n",
    "fig = plt.figure()\n",
    "ax = fig.gca(projection='3d')\n",
    "theta = np.linspace(-4 * np.pi, 4 * np.pi, 100)\n",
    "z = np.linspace(-2, 2, 100)\n",
    "r = z**2 + 1\n",
    "x = r * np.sin(theta)\n",
    "y = r * np.cos(theta)\n",
    "ax.plot(x, y, z, label='parametric curve')\n",
    "ax.legend()\n",
    "\n",
    "plt.show()"
   ]
  },
  {
   "cell_type": "code",
   "execution_count": 21,
   "metadata": {},
   "outputs": [
    {
     "name": "stdout",
     "output_type": "stream",
     "text": [
      "data/motion_data/files_motions_589/pour02.c3d\n",
      "data/motion_data/files_motions_589/pour04.c3d\n",
      "data/motion_data/files_motions_589/pour03.c3d\n",
      "data/motion_data/files_motions_589/pour01.c3d\n",
      "data/motion_data/files_motions_589/pour05.c3d\n",
      "data/motion_data/files_motions_589/pour06.c3d\n"
     ]
    }
   ],
   "source": [
    "# try to read c3d files\n",
    "cd3data_path = os.path.join('data', 'motion_data', 'files_motions_589')\n",
    "all_files = glob2.glob(cd3data_path+'/**/*[0-9].c3d', recursive=True)\n",
    "for files in all_files: \n",
    "    print(files)\n",
    "\n",
    "# read c3d file\n",
    "reader = c3d.Reader(open(all_files[0], 'rb'))"
   ]
  },
  {
   "cell_type": "markdown",
   "metadata": {},
   "source": [
    "### See information about marker points [here](https://motion-database.humanoids.kit.edu/marker_set/)"
   ]
  },
  {
   "cell_type": "code",
   "execution_count": 22,
   "metadata": {},
   "outputs": [
    {
     "data": {
      "text/plain": [
       "[u'small_cup:sc_01               ',\n",
       " u'small_cup:sc_02               ',\n",
       " u'small_cup:sc_03               ',\n",
       " u'small_cup:sc_04               ',\n",
       " u'bottle:shampoo_01             ',\n",
       " u'bottle:shampoo_02             ',\n",
       " u'bottle:shampoo_03             ',\n",
       " u'bottle:shampoo_04             ',\n",
       " u'Table:table_1                 ',\n",
       " u'Table:table_2                 ',\n",
       " u'Table:table_3                 ',\n",
       " u'Table:table_4                 ',\n",
       " u'subjX:RPSI                    ',\n",
       " u'subjX:LPSI                    ',\n",
       " u'subjX:L3                      ',\n",
       " u'subjX:STRN                    ',\n",
       " u'subjX:T10                     ',\n",
       " u'subjX:C7                      ',\n",
       " u'subjX:CLAV                    ',\n",
       " u'subjX:RBAK                    ',\n",
       " u'subjX:LBAK                    ',\n",
       " u'subjX:LSHO                    ',\n",
       " u'subjX:LUPA                    ',\n",
       " u'subjX:LAEL                    ',\n",
       " u'subjX:LAOL                    ',\n",
       " u'subjX:LWTS                    ',\n",
       " u'subjX:LWPS                    ',\n",
       " u'subjX:LFRA                    ',\n",
       " u'subjX:LIFD                    ',\n",
       " u'subjX:LHPS                    ',\n",
       " u'subjX:LHTS                    ',\n",
       " u'subjX:RSHO                    ',\n",
       " u'subjX:RUPA                    ',\n",
       " u'subjX:RAEL                    ',\n",
       " u'subjX:RAOL                    ',\n",
       " u'subjX:RWTS                    ',\n",
       " u'subjX:RWPS                    ',\n",
       " u'subjX:RFRA                    ',\n",
       " u'subjX:RIFD                    ',\n",
       " u'subjX:RHTS                    ',\n",
       " u'subjX:RHPS                    ',\n",
       " u'subjX:RBHD                    ',\n",
       " u'subjX:LFHD                    ',\n",
       " u'subjX:RFHD                    ',\n",
       " u'subjX:LBHD                    ',\n",
       " u'subjX:LHIP                    ',\n",
       " u'subjX:RHIP                    ',\n",
       " u'subjX:RASI                    ',\n",
       " u'subjX:LASI                    ',\n",
       " u'subjX:LKNE                    ',\n",
       " u'subjX:LTHI                    ',\n",
       " u'subjX:LANK                    ',\n",
       " u'subjX:LTIP                    ',\n",
       " u'subjX:LTOE                    ',\n",
       " u'subjX:LMT1                    ',\n",
       " u'subjX:LMT5                    ',\n",
       " u'subjX:LHEE                    ',\n",
       " u'subjX:RKNE                    ',\n",
       " u'subjX:RTHI                    ',\n",
       " u'subjX:RANK                    ',\n",
       " u'subjX:RTIP                    ',\n",
       " u'subjX:RTOE                    ',\n",
       " u'subjX:RMT1                    ',\n",
       " u'subjX:RMT5                    ',\n",
       " u'subjX:RHEE                    ']"
      ]
     },
     "execution_count": 22,
     "metadata": {},
     "output_type": "execute_result"
    }
   ],
   "source": [
    "# reader.point_used\n",
    "point_labels = reader.point_labels\n",
    "# print(type(point_labels))\n",
    "reader.point_labels"
   ]
  },
  {
   "cell_type": "code",
   "execution_count": 23,
   "metadata": {
    "scrolled": true
   },
   "outputs": [
    {
     "name": "stdout",
     "output_type": "stream",
     "text": [
      "10\n"
     ]
    }
   ],
   "source": [
    "# the marker points that we need\n",
    "# left_arm_markers = ['LSHO', 'LUPA', 'LAEL', 'LAOL', 'LWTS', 'LWPS', 'LIFD']\n",
    "# right_arm_markers = ['RSHO', 'RUPA', 'RAEL', 'RAOL', 'RWTS', 'RWPS', 'RIFD']\n",
    "left_arm_points_ids = list(range(21,31))\n",
    "right_arm_points_ids = list(range(31,41))\n",
    "print(len(right_arm_points_ids))"
   ]
  },
  {
   "cell_type": "code",
   "execution_count": 103,
   "metadata": {},
   "outputs": [],
   "source": [
    "right_arm_points = []\n",
    "for point_id in right_arm_points_ids:\n",
    "    point_marker = []\n",
    "    for i, points, analog in reader.read_frames():\n",
    "        point_marker.append(points[point_id][:3])\n",
    "    right_arm_points.append(point_marker)"
   ]
  },
  {
   "cell_type": "code",
   "execution_count": 104,
   "metadata": {},
   "outputs": [
    {
     "name": "stdout",
     "output_type": "stream",
     "text": [
      "(10, 831, 3)\n"
     ]
    }
   ],
   "source": [
    "points_array = np.array(right_arm_points)\n",
    "print(np.shape(points_array))"
   ]
  },
  {
   "cell_type": "code",
   "execution_count": 26,
   "metadata": {},
   "outputs": [],
   "source": [
    "# visualize a frame\n",
    "frame = points_array[:,0,:]\n",
    "x_data = frame[:,0]\n",
    "y_data = frame[:,1]\n",
    "z_data = frame[:,2]"
   ]
  },
  {
   "cell_type": "code",
   "execution_count": 64,
   "metadata": {},
   "outputs": [],
   "source": [
    "# plot joint positions\n",
    "fig = plt.figure()\n",
    "aax = fig.gca(projection='3d')\n",
    "\n",
    "aax.scatter(x_data, y_data, z_data)\n",
    "# aax.plot(x_data, y_data, z_data)\n",
    "\n",
    "aax.set_xlabel('x_axis')\n",
    "aax.set_ylabel('y_axis')\n",
    "aax.set_zlabel('z_axis')\n",
    "\n",
    "aax.azim = 180\n",
    "aax.elev = 10\n",
    "aax.autoscale()\n",
    "# aax.legend()\n",
    "\n",
    "# %matplotlib qt\n",
    "plt.show()"
   ]
  },
  {
   "cell_type": "markdown",
   "metadata": {},
   "source": [
    "### we are going to try to make animations of the arm movement"
   ]
  },
  {
   "cell_type": "markdown",
   "metadata": {},
   "source": [
    "#### Example:"
   ]
  },
  {
   "cell_type": "code",
   "execution_count": 65,
   "metadata": {},
   "outputs": [],
   "source": [
    "\"\"\"\n",
    "============\n",
    "3D animation\n",
    "============\n",
    "\n",
    "A simple example of an animated plot... In 3D!\n",
    "\"\"\"\n",
    "# import numpy as np\n",
    "# import matplotlib.pyplot as plt\n",
    "import mpl_toolkits.mplot3d.axes3d as p3\n",
    "# import matplotlib.animation as animation\n",
    "\n",
    "\n",
    "def Gen_RandLine(length, dims=2):\n",
    "    \"\"\"\n",
    "    Create a line using a random walk algorithm\n",
    "\n",
    "    length is the number of points for the line.\n",
    "    dims is the number of dimensions the line has.\n",
    "    \"\"\"\n",
    "    lineData = np.empty((dims, length))\n",
    "    lineData[:, 0] = np.random.rand(dims)\n",
    "    for index in range(1, length):\n",
    "        # scaling the random numbers by 0.1 so\n",
    "        # movement is small compared to position.\n",
    "        # subtraction by 0.5 is to change the range to [-0.5, 0.5]\n",
    "        # to allow a line to move backwards.\n",
    "        step = ((np.random.rand(dims) - 0.5) * 0.1)\n",
    "        lineData[:, index] = lineData[:, index - 1] + step\n",
    "\n",
    "    return lineData\n",
    "\n",
    "\n",
    "def update_lines(num, dataLines, lines):\n",
    "    for line, data in zip(lines, dataLines):\n",
    "        # NOTE: there is no .set_data() for 3 dim data...\n",
    "        line.set_data(data[0:2, :num])\n",
    "        line.set_3d_properties(data[2, :num])\n",
    "    return lines\n",
    "\n",
    "# Attaching 3D axis to the figure\n",
    "fig = plt.figure()\n",
    "ax = p3.Axes3D(fig)\n",
    "\n",
    "# Fifty lines of random 3-D lines\n",
    "data = [Gen_RandLine(25, 3) for index in range(50)]\n",
    "\n",
    "# Creating fifty line objects.\n",
    "# NOTE: Can't pass empty arrays into 3d version of plot()\n",
    "lines = [ax.plot(dat[0, 0:1], dat[1, 0:1], dat[2, 0:1])[0] for dat in data]\n",
    "\n",
    "# Setting the axes properties\n",
    "ax.set_xlim3d([0.0, 1.0])\n",
    "ax.set_xlabel('X')\n",
    "\n",
    "ax.set_ylim3d([0.0, 1.0])\n",
    "ax.set_ylabel('Y')\n",
    "\n",
    "ax.set_zlim3d([0.0, 1.0])\n",
    "ax.set_zlabel('Z')\n",
    "\n",
    "ax.set_title('3D Test')\n",
    "\n",
    "# Creating the Animation object\n",
    "line_ani = animation.FuncAnimation(fig, update_lines, 25, fargs=(data, lines),\n",
    "                                   interval=50, blit=False)\n",
    "\n",
    "plt.show()\n"
   ]
  },
  {
   "cell_type": "code",
   "execution_count": 29,
   "metadata": {},
   "outputs": [
    {
     "data": {
      "text/plain": [
       "(50, 3, 25)"
      ]
     },
     "execution_count": 29,
     "metadata": {},
     "output_type": "execute_result"
    }
   ],
   "source": [
    "np.shape([Gen_RandLine(25, 3) for index in range(50)])"
   ]
  },
  {
   "cell_type": "code",
   "execution_count": 30,
   "metadata": {},
   "outputs": [
    {
     "name": "stdout",
     "output_type": "stream",
     "text": [
      "(10,)\n"
     ]
    }
   ],
   "source": [
    "frame = points_array[:,0,:]\n",
    "x_data = frame[:,0]\n",
    "y_data = frame[:,1]\n",
    "z_data = frame[:,2]\n",
    "\n",
    "print(np.shape(x_data))"
   ]
  },
  {
   "cell_type": "code",
   "execution_count": 53,
   "metadata": {},
   "outputs": [
    {
     "data": {
      "text/plain": [
       "(50, 3, 10)"
      ]
     },
     "execution_count": 53,
     "metadata": {},
     "output_type": "execute_result"
    }
   ],
   "source": [
    "np.shape(np.transpose(points_array[:,:50,:], (1,2,0)))"
   ]
  },
  {
   "cell_type": "code",
   "execution_count": 74,
   "metadata": {},
   "outputs": [],
   "source": [
    "def frame_gen():\n",
    "    total_frames = np.shape(points_array)[0]\n",
    "    t = 0\n",
    "    while t < total_frames:\n",
    "        frame = points_array[:,t,:]\n",
    "        x_data = frame[:,0]\n",
    "        y_data = frame[:,1]\n",
    "        z_data = frame[:,2]\n",
    "        t += 1\n",
    "        yield x_data, y_data, z_data\n",
    "\n",
    "def update_lines(num, dataLines, lines):\n",
    "    for line, data in zip(lines, dataLines):\n",
    "        # NOTE: there is no .set_data() for 3 dim data...\n",
    "        line.set_data(data[0:4, :num])\n",
    "        line.set_3d_properties(data[2, :num])\n",
    "    return lines\n",
    "\n",
    "# Attaching 3D axis to the figure\n",
    "fig = plt.figure()\n",
    "# c3d_plot = p3.Axes3D(fig)\n",
    "\n",
    "c3d_plot = fig.gca(projection='3d')\n",
    "\n",
    "\n",
    "\n",
    "# samples of 3d points\n",
    "data = np.transpose(points_array[:,:50,:], (1,2,0))\n",
    "\n",
    "# Setting the axes properties\n",
    "c3d_plot.set_xlim3d([0.0, 200.0])\n",
    "c3d_plot.set_xlabel('X')\n",
    "\n",
    "c3d_plot.set_ylim3d([200.0, 600.0])\n",
    "c3d_plot.set_ylabel('Y')\n",
    "\n",
    "c3d_plot.set_zlim3d([500.0, 1500.0])\n",
    "c3d_plot.set_zlabel('Z')\n",
    "\n",
    "c3d_plot.azim = 180\n",
    "c3d_plot.elev = 10\n",
    "\n",
    "c3d_plot.set_title('C3D Arm Points 3D')\n",
    "\n",
    "# Creating fifty line objects.\n",
    "# NOTE: Can't pass empty arrays into 3d version of plot()\n",
    "lines = [c3d_plot.plot(dat[0, 0:1], dat[1, 0:1], dat[2, 0:1])[0] for dat in data]\n",
    "# lines = [c3d_plot.scatter3D(dat[0, 0:1], dat[1, 0:1], dat[2, 0:1]) for dat in data]\n",
    "\n",
    "# Creating the Animation object\n",
    "line_ani = animation.FuncAnimation(fig, update_lines, 10, fargs=(data, lines),\n",
    "                                   interval=50, blit=False)\n",
    "\n",
    "plt.show()"
   ]
  },
  {
   "cell_type": "code",
   "execution_count": 90,
   "metadata": {},
   "outputs": [],
   "source": [
    "import numpy as np\n",
    "from matplotlib import pyplot as plt\n",
    "from mpl_toolkits.mplot3d import Axes3D\n",
    "import matplotlib.animation\n",
    "import pandas as pd\n",
    "\n",
    "\n",
    "a = np.random.rand(2000, 3)*10\n",
    "t = np.array([np.ones(100)*i for i in range(20)]).flatten()\n",
    "df = pd.DataFrame({\"time\": t ,\"x\" : a[:,0], \"y\" : a[:,1], \"z\" : a[:,2]})\n",
    "\n",
    "def update_graph(num):\n",
    "    data=df[df['time']==num]\n",
    "    graph._offsets3d = (data.x, data.y, data.z)\n",
    "    title.set_text('3D Test, time={}'.format(num))\n",
    "\n",
    "\n",
    "fig = plt.figure()\n",
    "ax = fig.add_subplot(111, projection='3d')\n",
    "title = ax.set_title('3D Test')\n",
    "\n",
    "data=df[df['time']==0]\n",
    "graph = ax.scatter(data.x, data.y, data.z)\n",
    "\n",
    "ani = matplotlib.animation.FuncAnimation(fig, update_graph, 19, \n",
    "                               interval=40, blit=False)\n",
    "\n",
    "plt.show()"
   ]
  },
  {
   "cell_type": "code",
   "execution_count": 102,
   "metadata": {},
   "outputs": [
    {
     "data": {
      "text/plain": [
       "(100, 4)"
      ]
     },
     "execution_count": 102,
     "metadata": {},
     "output_type": "execute_result"
    }
   ],
   "source": [
    "data.shape"
   ]
  },
  {
   "cell_type": "code",
   "execution_count": 106,
   "metadata": {},
   "outputs": [
    {
     "data": {
      "text/plain": [
       "(10,)"
      ]
     },
     "execution_count": 106,
     "metadata": {},
     "output_type": "execute_result"
    }
   ],
   "source": [
    "np.shape(points_array[:,0,:][:,0])\n"
   ]
  },
  {
   "cell_type": "code",
   "execution_count": 123,
   "metadata": {},
   "outputs": [],
   "source": [
    "def update_graph(num):\n",
    "    frame = points_array[:,num,:]\n",
    "    x_data = frame[:,0]\n",
    "    y_data = frame[:,1]\n",
    "    z_data = frame[:,2]\n",
    "    graph._offsets3d = (x_data, y_data, z_data)\n",
    "    title.set_text('Right Hand Demo, time step={}'.format(num))\n",
    "\n",
    "\n",
    "fig = plt.figure()\n",
    "ax = fig.add_subplot(111, projection='3d')\n",
    "\n",
    "# Setting the axes properties\n",
    "ax.set_xlim3d([-500.0, 200.0])\n",
    "ax.set_xlabel('X')\n",
    "\n",
    "ax.set_ylim3d([-100.0, 600.0])\n",
    "ax.set_ylabel('Y')\n",
    "\n",
    "ax.set_zlim3d([500.0, 1500.0])\n",
    "ax.set_zlabel('Z')\n",
    "\n",
    "ax.azim = 180\n",
    "ax.elev = 10\n",
    "\n",
    "title = ax.set_title('3D Test')\n",
    "\n",
    "# plot initial data\n",
    "x_data = points_array[:,0,:][:,0]\n",
    "y_data = points_array[:,0,:][:,1]\n",
    "z_data = points_array[:,0,:][:,2]\n",
    "\n",
    "graph = ax.scatter(x_data, y_data, z_data)\n",
    "\n",
    "ani = matplotlib.animation.FuncAnimation(fig, update_graph, 831,\n",
    "                               interval=1, blit=False)\n",
    "\n",
    "# can save as mp4\n",
    "# ani.save('basic_animation.mp4', fps=30)\n",
    "ani.save('data/media_outputs/basic_animation.gif', writer='imagemagick', fps=30)\n",
    "\n",
    "plt.show()"
   ]
  },
  {
   "cell_type": "code",
   "execution_count": 128,
   "metadata": {},
   "outputs": [],
   "source": [
    "# display image or animation through here:\n",
    "# Image(url='data/media_outputs/basic_animation.gif')"
   ]
  },
  {
   "cell_type": "raw",
   "metadata": {},
   "source": [
    "# myavi example\n",
    "# Produce some nice data.\n",
    "n_mer, n_long = 6, 11\n",
    "pi = np.pi\n",
    "dphi = pi/1000.0\n",
    "phi = np.arange(0.0, 2*pi + 0.5*dphi, dphi, 'd')\n",
    "mu = phi*n_mer\n",
    "x = np.cos(mu)*(1+np.cos(n_long*mu/n_mer)*0.5)\n",
    "y = np.sin(mu)*(1+np.cos(n_long*mu/n_mer)*0.5)\n",
    "z = np.sin(n_long*mu/n_mer)*0.5\n",
    "\n",
    "# View it.\n",
    "l = plot3d(x, y, z, np.sin(mu), tube_radius=0.025, colormap='Spectral')\n",
    "\n",
    "# Now animate the data.\n",
    "ms = l.mlab_source\n",
    "for i in range(10):\n",
    "    x = np.cos(mu)*(1+np.cos(n_long*mu/n_mer +\n",
    "                                      np.pi*(i+1)/5.)*0.5)\n",
    "    scalars = np.sin(mu + np.pi*(i+1)/5)\n",
    "    ms.set(x=x, scalars=scalars)"
   ]
  },
  {
   "cell_type": "raw",
   "metadata": {},
   "source": [
    "x, y = np.mgrid[0:3:1,0:3:1]\n",
    "s = surf(x, y, np.asarray(x*0.1, 'd'))\n",
    "\n",
    "for i in range(10):\n",
    "    s.mlab_source.scalars = np.asarray(x*0.1*(i+1), 'd')"
   ]
  },
  {
   "cell_type": "raw",
   "metadata": {},
   "source": [
    "# assess data in file\n",
    "for i, points, analog in reader.read_frames():\n",
    "#     print('frame {}: point {}, analog {}'.format(i, points.shape, analog.shape))\n",
    "#     print(points[20][:3])\n",
    "    pass\n",
    "#     print(analog)\n",
    "\n",
    "print(i)"
   ]
  }
 ],
 "metadata": {
  "kernelspec": {
   "display_name": "Python 2",
   "language": "python",
   "name": "python2"
  },
  "language_info": {
   "codemirror_mode": {
    "name": "ipython",
    "version": 2
   },
   "file_extension": ".py",
   "mimetype": "text/x-python",
   "name": "python",
   "nbconvert_exporter": "python",
   "pygments_lexer": "ipython2",
   "version": "2.7.14"
  }
 },
 "nbformat": 4,
 "nbformat_minor": 2
}
