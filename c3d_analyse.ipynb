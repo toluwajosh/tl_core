{
 "cells": [
  {
   "cell_type": "code",
   "execution_count": 2,
   "metadata": {},
   "outputs": [],
   "source": [
    "import os\n",
    "import c3d\n",
    "import glob\n",
    "import math\n",
    "import numpy as np\n",
    "import mayavi as mlab\n",
    "import matplotlib as mpl\n",
    "import matplotlib.pyplot as plt\n",
    "import matplotlib.animation as animation\n",
    "from mpl_toolkits.mplot3d import Axes3D\n",
    "\n",
    "%matplotlib qt"
   ]
  },
  {
   "cell_type": "code",
   "execution_count": 2,
   "metadata": {
    "scrolled": true
   },
   "outputs": [],
   "source": [
    "# example 3d plotting\n",
    "fig = plt.figure()\n",
    "ax = fig.add_subplot(111, projection='3d')\n",
    "\n",
    "x = [1,2,3,4,5,6,7,8,9,10]\n",
    "y = [5,6,2,3,13,4,1,2,4,8]\n",
    "z = [2,3,3,3,5,7,9,11,9,10]\n",
    "\n",
    "ax.scatter(x, y, z, c='r', marker='o') # scatter plot\n",
    "\n",
    "ax.set_xlabel('x_axis')\n",
    "ax.set_ylabel('y_axis')\n",
    "ax.set_zlabel('z_axis')\n",
    "\n",
    "plt.show()"
   ]
  },
  {
   "cell_type": "code",
   "execution_count": 3,
   "metadata": {
    "scrolled": true
   },
   "outputs": [],
   "source": [
    "fig = plt.figure()\n",
    "ax = fig.add_subplot(111, projection='3d')\n",
    "X, Y, Z = [1,2,3,4,5,6,7,8,9,10],[5,6,2,3,13,4,1,2,4,8],[2,3,3,3,5,7,9,11,9,10]\n",
    "ax.plot(X, Y, Z, label='parametric curve')\n",
    "\n",
    "plt.show()"
   ]
  },
  {
   "cell_type": "code",
   "execution_count": 4,
   "metadata": {},
   "outputs": [],
   "source": [
    "mpl.rcParams['legend.fontsize'] = 10\n",
    "\n",
    "fig = plt.figure()\n",
    "ax = fig.gca(projection='3d')\n",
    "theta = np.linspace(-4 * np.pi, 4 * np.pi, 100)\n",
    "z = np.linspace(-2, 2, 100)\n",
    "r = z**2 + 1\n",
    "x = r * np.sin(theta)\n",
    "y = r * np.cos(theta)\n",
    "ax.plot(x, y, z, label='parametric curve')\n",
    "ax.legend()\n",
    "\n",
    "plt.show()"
   ]
  },
  {
   "cell_type": "code",
   "execution_count": 5,
   "metadata": {},
   "outputs": [
    {
     "name": "stdout",
     "output_type": "stream",
     "text": [
      "data/motion_data/files_motions_589/pour02.c3d\n",
      "data/motion_data/files_motions_589/pour04.c3d\n",
      "data/motion_data/files_motions_589/pour03.c3d\n",
      "data/motion_data/files_motions_589/pour01.c3d\n",
      "data/motion_data/files_motions_589/pour05.c3d\n",
      "data/motion_data/files_motions_589/pour06.c3d\n"
     ]
    }
   ],
   "source": [
    "# try to read c3d files\n",
    "cd3data_path = os.path.join('data', 'motion_data', 'files_motions_589')\n",
    "all_files = glob.glob(cd3data_path+'/**/*[0-9].c3d', recursive=True)\n",
    "for files in all_files: \n",
    "    print(files)\n",
    "\n",
    "# read c3d file\n",
    "reader = c3d.Reader(open(all_files[0], 'rb'))"
   ]
  },
  {
   "cell_type": "markdown",
   "metadata": {},
   "source": [
    "### See information about marker points [here](https://motion-database.humanoids.kit.edu/marker_set/)"
   ]
  },
  {
   "cell_type": "code",
   "execution_count": 17,
   "metadata": {},
   "outputs": [
    {
     "data": {
      "text/plain": [
       "['small_cup:sc_01               ',\n",
       " 'small_cup:sc_02               ',\n",
       " 'small_cup:sc_03               ',\n",
       " 'small_cup:sc_04               ',\n",
       " 'bottle:shampoo_01             ',\n",
       " 'bottle:shampoo_02             ',\n",
       " 'bottle:shampoo_03             ',\n",
       " 'bottle:shampoo_04             ',\n",
       " 'Table:table_1                 ',\n",
       " 'Table:table_2                 ',\n",
       " 'Table:table_3                 ',\n",
       " 'Table:table_4                 ',\n",
       " 'subjX:RPSI                    ',\n",
       " 'subjX:LPSI                    ',\n",
       " 'subjX:L3                      ',\n",
       " 'subjX:STRN                    ',\n",
       " 'subjX:T10                     ',\n",
       " 'subjX:C7                      ',\n",
       " 'subjX:CLAV                    ',\n",
       " 'subjX:RBAK                    ',\n",
       " 'subjX:LBAK                    ',\n",
       " 'subjX:LSHO                    ',\n",
       " 'subjX:LUPA                    ',\n",
       " 'subjX:LAEL                    ',\n",
       " 'subjX:LAOL                    ',\n",
       " 'subjX:LWTS                    ',\n",
       " 'subjX:LWPS                    ',\n",
       " 'subjX:LFRA                    ',\n",
       " 'subjX:LIFD                    ',\n",
       " 'subjX:LHPS                    ',\n",
       " 'subjX:LHTS                    ',\n",
       " 'subjX:RSHO                    ',\n",
       " 'subjX:RUPA                    ',\n",
       " 'subjX:RAEL                    ',\n",
       " 'subjX:RAOL                    ',\n",
       " 'subjX:RWTS                    ',\n",
       " 'subjX:RWPS                    ',\n",
       " 'subjX:RFRA                    ',\n",
       " 'subjX:RIFD                    ',\n",
       " 'subjX:RHTS                    ',\n",
       " 'subjX:RHPS                    ',\n",
       " 'subjX:RBHD                    ',\n",
       " 'subjX:LFHD                    ',\n",
       " 'subjX:RFHD                    ',\n",
       " 'subjX:LBHD                    ',\n",
       " 'subjX:LHIP                    ',\n",
       " 'subjX:RHIP                    ',\n",
       " 'subjX:RASI                    ',\n",
       " 'subjX:LASI                    ',\n",
       " 'subjX:LKNE                    ',\n",
       " 'subjX:LTHI                    ',\n",
       " 'subjX:LANK                    ',\n",
       " 'subjX:LTIP                    ',\n",
       " 'subjX:LTOE                    ',\n",
       " 'subjX:LMT1                    ',\n",
       " 'subjX:LMT5                    ',\n",
       " 'subjX:LHEE                    ',\n",
       " 'subjX:RKNE                    ',\n",
       " 'subjX:RTHI                    ',\n",
       " 'subjX:RANK                    ',\n",
       " 'subjX:RTIP                    ',\n",
       " 'subjX:RTOE                    ',\n",
       " 'subjX:RMT1                    ',\n",
       " 'subjX:RMT5                    ',\n",
       " 'subjX:RHEE                    ']"
      ]
     },
     "execution_count": 17,
     "metadata": {},
     "output_type": "execute_result"
    }
   ],
   "source": [
    "# reader.point_used\n",
    "point_labels = reader.point_labels\n",
    "# print(type(point_labels))\n",
    "reader.point_labels"
   ]
  },
  {
   "cell_type": "code",
   "execution_count": 67,
   "metadata": {
    "scrolled": true
   },
   "outputs": [
    {
     "name": "stdout",
     "output_type": "stream",
     "text": [
      "10\n"
     ]
    }
   ],
   "source": [
    "# the marker points that we need\n",
    "# left_arm_markers = ['LSHO', 'LUPA', 'LAEL', 'LAOL', 'LWTS', 'LWPS', 'LIFD']\n",
    "# right_arm_markers = ['RSHO', 'RUPA', 'RAEL', 'RAOL', 'RWTS', 'RWPS', 'RIFD']\n",
    "left_arm_points_ids = list(range(21,31))\n",
    "right_arm_points_ids = list(range(31,41))\n",
    "print(len(right_arm_points_ids))"
   ]
  },
  {
   "cell_type": "code",
   "execution_count": 68,
   "metadata": {},
   "outputs": [],
   "source": [
    "right_arm_points = []\n",
    "for point_id in right_arm_points_ids:\n",
    "    point_marker = []\n",
    "    for i, points, analog in reader.read_frames():\n",
    "        point_marker.append(points[point_id][:3])\n",
    "    right_arm_points.append(point_marker)"
   ]
  },
  {
   "cell_type": "code",
   "execution_count": 134,
   "metadata": {},
   "outputs": [
    {
     "name": "stdout",
     "output_type": "stream",
     "text": [
      "(10, 831, 3)\n"
     ]
    }
   ],
   "source": [
    "points_array = np.array(right_arm_points)\n",
    "print(np.shape(points_array))"
   ]
  },
  {
   "cell_type": "code",
   "execution_count": 70,
   "metadata": {},
   "outputs": [],
   "source": [
    "# visualize a frame\n",
    "frame = points_array[:,0,:]\n",
    "x_data = frame[:,0]\n",
    "y_data = frame[:,1]\n",
    "z_data = frame[:,2]"
   ]
  },
  {
   "cell_type": "code",
   "execution_count": 143,
   "metadata": {},
   "outputs": [],
   "source": [
    "# plot joint positions\n",
    "fig = plt.figure()\n",
    "aax = fig.gca(projection='3d')\n",
    "\n",
    "aax.scatter(x_data, y_data, z_data)\n",
    "# aax.plot(x_data, y_data, z_data)\n",
    "\n",
    "aax.set_xlabel('x_axis')\n",
    "aax.set_ylabel('y_axis')\n",
    "aax.set_zlabel('z_axis')\n",
    "\n",
    "aax.azim = 180\n",
    "aax.elev = 10\n",
    "aax.autoscale()\n",
    "# aax.legend()\n",
    "\n",
    "# %matplotlib qt\n",
    "plt.show()"
   ]
  },
  {
   "cell_type": "markdown",
   "metadata": {},
   "source": [
    "### we are going to try to make animations of the arm movement"
   ]
  },
  {
   "cell_type": "markdown",
   "metadata": {},
   "source": [
    "#### Example:"
   ]
  },
  {
   "cell_type": "code",
   "execution_count": 112,
   "metadata": {},
   "outputs": [],
   "source": [
    "\"\"\"\n",
    "============\n",
    "3D animation\n",
    "============\n",
    "\n",
    "A simple example of an animated plot... In 3D!\n",
    "\"\"\"\n",
    "# import numpy as np\n",
    "# import matplotlib.pyplot as plt\n",
    "import mpl_toolkits.mplot3d.axes3d as p3\n",
    "# import matplotlib.animation as animation\n",
    "\n",
    "\n",
    "def Gen_RandLine(length, dims=2):\n",
    "    \"\"\"\n",
    "    Create a line using a random walk algorithm\n",
    "\n",
    "    length is the number of points for the line.\n",
    "    dims is the number of dimensions the line has.\n",
    "    \"\"\"\n",
    "    lineData = np.empty((dims, length))\n",
    "    lineData[:, 0] = np.random.rand(dims)\n",
    "    for index in range(1, length):\n",
    "        # scaling the random numbers by 0.1 so\n",
    "        # movement is small compared to position.\n",
    "        # subtraction by 0.5 is to change the range to [-0.5, 0.5]\n",
    "        # to allow a line to move backwards.\n",
    "        step = ((np.random.rand(dims) - 0.5) * 0.1)\n",
    "        lineData[:, index] = lineData[:, index - 1] + step\n",
    "\n",
    "    return lineData\n",
    "\n",
    "\n",
    "def update_lines(num, dataLines, lines):\n",
    "    for line, data in zip(lines, dataLines):\n",
    "        # NOTE: there is no .set_data() for 3 dim data...\n",
    "        line.set_data(data[0:2, :num])\n",
    "        line.set_3d_properties(data[2, :num])\n",
    "    return lines\n",
    "\n",
    "# Attaching 3D axis to the figure\n",
    "fig = plt.figure()\n",
    "ax = p3.Axes3D(fig)\n",
    "\n",
    "# Fifty lines of random 3-D lines\n",
    "data = [Gen_RandLine(25, 3) for index in range(50)]\n",
    "\n",
    "# Creating fifty line objects.\n",
    "# NOTE: Can't pass empty arrays into 3d version of plot()\n",
    "lines = [ax.plot(dat[0, 0:1], dat[1, 0:1], dat[2, 0:1])[0] for dat in data]\n",
    "\n",
    "# Setting the axes properties\n",
    "ax.set_xlim3d([0.0, 1.0])\n",
    "ax.set_xlabel('X')\n",
    "\n",
    "ax.set_ylim3d([0.0, 1.0])\n",
    "ax.set_ylabel('Y')\n",
    "\n",
    "ax.set_zlim3d([0.0, 1.0])\n",
    "ax.set_zlabel('Z')\n",
    "\n",
    "ax.set_title('3D Test')\n",
    "\n",
    "# Creating the Animation object\n",
    "line_ani = animation.FuncAnimation(fig, update_lines, 25, fargs=(data, lines),\n",
    "                                   interval=50, blit=False)\n",
    "\n",
    "plt.show()\n"
   ]
  },
  {
   "cell_type": "code",
   "execution_count": 113,
   "metadata": {},
   "outputs": [
    {
     "data": {
      "text/plain": [
       "(50, 3, 25)"
      ]
     },
     "execution_count": 113,
     "metadata": {},
     "output_type": "execute_result"
    }
   ],
   "source": [
    "np.shape([Gen_RandLine(25, 3) for index in range(50)])"
   ]
  },
  {
   "cell_type": "code",
   "execution_count": 86,
   "metadata": {},
   "outputs": [
    {
     "name": "stdout",
     "output_type": "stream",
     "text": [
      "(10,)\n"
     ]
    }
   ],
   "source": [
    "frame = points_array[:,0,:]\n",
    "x_data = frame[:,0]\n",
    "y_data = frame[:,1]\n",
    "z_data = frame[:,2]\n",
    "\n",
    "print(np.shape(x_data))"
   ]
  },
  {
   "cell_type": "code",
   "execution_count": 135,
   "metadata": {},
   "outputs": [
    {
     "data": {
      "text/plain": [
       "(10, 20, 3)"
      ]
     },
     "execution_count": 135,
     "metadata": {},
     "output_type": "execute_result"
    }
   ],
   "source": [
    "np.shape(points_array[:,:20,:])"
   ]
  },
  {
   "cell_type": "code",
   "execution_count": 161,
   "metadata": {},
   "outputs": [],
   "source": [
    "def frame_gen():\n",
    "    total_frames = np.shape(points_array)[0]\n",
    "    t = 0\n",
    "    while t < total_frames:\n",
    "        frame = points_array[:,t,:]\n",
    "        x_data = frame[:,0]\n",
    "        y_data = frame[:,1]\n",
    "        z_data = frame[:,2]\n",
    "        t += 1\n",
    "        yield x_data, y_data, z_data\n",
    "\n",
    "def update_lines(num, dataLines, lines):\n",
    "    for line, data in zip(lines, dataLines):\n",
    "        # NOTE: there is no .set_data() for 3 dim data...\n",
    "        line.set_data(data[0:2, :num])\n",
    "        line.set_3d_properties(data[2, :num])\n",
    "    return lines\n",
    "\n",
    "# Attaching 3D axis to the figure\n",
    "fig = plt.figure()\n",
    "# c3d_plot = p3.Axes3D(fig)\n",
    "\n",
    "c3d_plot = fig.gca(projection='3d')\n",
    "\n",
    "\n",
    "\n",
    "# samples of 3d points\n",
    "data = np.transpose(points_array[:,:20,:], (1,2,0))\n",
    "\n",
    "# Setting the axes properties\n",
    "c3d_plot.set_xlim3d([0.0, 200.0])\n",
    "c3d_plot.set_xlabel('X')\n",
    "\n",
    "c3d_plot.set_ylim3d([200.0, 600.0])\n",
    "c3d_plot.set_ylabel('Y')\n",
    "\n",
    "c3d_plot.set_zlim3d([500.0, 1500.0])\n",
    "c3d_plot.set_zlabel('Z')\n",
    "\n",
    "c3d_plot.set_title('C3D Arm Points 3D')\n",
    "\n",
    "# Creating fifty line objects.\n",
    "# NOTE: Can't pass empty arrays into 3d version of plot()\n",
    "lines = [c3d_plot.plot(dat[0, 0:1], dat[1, 0:1], dat[2, 0:1])[0] for dat in data]\n",
    "# lines = [c3d_plot.scatter3D(dat[0, 0:1], dat[1, 0:1], dat[2, 0:1]) for dat in data]\n",
    "\n",
    "# Creating the Animation object\n",
    "line_ani = animation.FuncAnimation(fig, update_lines, 10, fargs=(data, lines),\n",
    "                                   interval=50, blit=False)\n",
    "\n",
    "plt.show()"
   ]
  },
  {
   "cell_type": "code",
   "execution_count": 152,
   "metadata": {},
   "outputs": [
    {
     "data": {
      "text/plain": [
       "array([[   88.78457642,    67.27487183,   116.42889404,   180.6335907 ,\n",
       "           -1.45498979,    52.49711227,    81.7328949 ,    15.1585865 ,\n",
       "          -11.72694016,    46.36584854],\n",
       "       [  233.95379639,   294.85906982,   427.38742065,   403.38809204,\n",
       "          477.0796814 ,   521.84283447,   464.51306152,   489.92703247,\n",
       "          501.51455688,   530.55310059],\n",
       "       [ 1437.06311035,  1386.28613281,  1153.73596191,  1128.96691895,\n",
       "          924.83496094,   922.40765381,  1071.06811523,   763.5       ,\n",
       "          837.20666504,   847.394104  ]])"
      ]
     },
     "execution_count": 152,
     "metadata": {},
     "output_type": "execute_result"
    }
   ],
   "source": [
    "data[0]"
   ]
  },
  {
   "cell_type": "code",
   "execution_count": 142,
   "metadata": {},
   "outputs": [
    {
     "data": {
      "text/plain": [
       "[<mpl_toolkits.mplot3d.art3d.Line3D at 0x7fc90f7cf978>,\n",
       " <mpl_toolkits.mplot3d.art3d.Line3D at 0x7fc90f7cf278>,\n",
       " <mpl_toolkits.mplot3d.art3d.Line3D at 0x7fc90f2b2e80>,\n",
       " <mpl_toolkits.mplot3d.art3d.Line3D at 0x7fc90f2da5f8>,\n",
       " <mpl_toolkits.mplot3d.art3d.Line3D at 0x7fc90f2daa58>,\n",
       " <mpl_toolkits.mplot3d.art3d.Line3D at 0x7fc90f2daeb8>,\n",
       " <mpl_toolkits.mplot3d.art3d.Line3D at 0x7fc90f2b4358>,\n",
       " <mpl_toolkits.mplot3d.art3d.Line3D at 0x7fc90f2b47b8>,\n",
       " <mpl_toolkits.mplot3d.art3d.Line3D at 0x7fc90f2b4c18>,\n",
       " <mpl_toolkits.mplot3d.art3d.Line3D at 0x7fc90f2b4da0>,\n",
       " <mpl_toolkits.mplot3d.art3d.Line3D at 0x7fc90f2aa518>,\n",
       " <mpl_toolkits.mplot3d.art3d.Line3D at 0x7fc90f2aa978>,\n",
       " <mpl_toolkits.mplot3d.art3d.Line3D at 0x7fc90f2aadd8>,\n",
       " <mpl_toolkits.mplot3d.art3d.Line3D at 0x7fc90f2aaf60>,\n",
       " <mpl_toolkits.mplot3d.art3d.Line3D at 0x7fc90f2ca6d8>,\n",
       " <mpl_toolkits.mplot3d.art3d.Line3D at 0x7fc90f2cab38>,\n",
       " <mpl_toolkits.mplot3d.art3d.Line3D at 0x7fc90f2caf98>,\n",
       " <mpl_toolkits.mplot3d.art3d.Line3D at 0x7fc90f2ce390>,\n",
       " <mpl_toolkits.mplot3d.art3d.Line3D at 0x7fc90f2ce860>,\n",
       " <mpl_toolkits.mplot3d.art3d.Line3D at 0x7fc90f2cecf8>]"
      ]
     },
     "execution_count": 142,
     "metadata": {},
     "output_type": "execute_result"
    }
   ],
   "source": [
    "update_lines(10, data, lines)"
   ]
  },
  {
   "cell_type": "code",
   "execution_count": 110,
   "metadata": {},
   "outputs": [
    {
     "data": {
      "text/plain": [
       "array([[   88.78457642,   233.95379639,  1437.06311035],\n",
       "       [   67.27487183,   294.85906982,  1386.28613281],\n",
       "       [  116.42889404,   427.38742065,  1153.73596191],\n",
       "       [  180.6335907 ,   403.38809204,  1128.96691895],\n",
       "       [   -1.45498979,   477.0796814 ,   924.83496094],\n",
       "       [   52.49711227,   521.84283447,   922.40765381],\n",
       "       [   81.7328949 ,   464.51306152,  1071.06811523],\n",
       "       [   15.1585865 ,   489.92703247,   763.5       ],\n",
       "       [  -11.72694016,   501.51455688,   837.20666504],\n",
       "       [   46.36584854,   530.55310059,   847.394104  ]])"
      ]
     },
     "execution_count": 110,
     "metadata": {},
     "output_type": "execute_result"
    }
   ],
   "source": [
    "gen = gen_points_array(points_array)"
   ]
  },
  {
   "cell_type": "raw",
   "metadata": {},
   "source": [
    "# assess data in file\n",
    "for i, points, analog in reader.read_frames():\n",
    "#     print('frame {}: point {}, analog {}'.format(i, points.shape, analog.shape))\n",
    "#     print(points[20][:3])\n",
    "    pass\n",
    "#     print(analog)\n",
    "\n",
    "print(i)"
   ]
  }
 ],
 "metadata": {
  "kernelspec": {
   "display_name": "Python 2",
   "language": "python",
   "name": "python2"
  },
  "language_info": {
   "codemirror_mode": {
    "name": "ipython",
    "version": 2
   },
   "file_extension": ".py",
   "mimetype": "text/x-python",
   "name": "python",
   "nbconvert_exporter": "python",
   "pygments_lexer": "ipython2",
   "version": "2.7.14"
  }
 },
 "nbformat": 4,
 "nbformat_minor": 2
}
