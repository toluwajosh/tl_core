{
 "cells": [
  {
   "cell_type": "code",
   "execution_count": 1,
   "metadata": {},
   "outputs": [],
   "source": [
    "# libraries and settings\n",
    "import os\n",
    "import c3d\n",
    "import glob2\n",
    "import math\n",
    "import numpy as np\n",
    "from mayavi.mlab import *\n",
    "import matplotlib as mpl\n",
    "import matplotlib.pyplot as plt\n",
    "# import matplotlib.animation as animation\n",
    "from matplotlib import animation, rc\n",
    "from mpl_toolkits.mplot3d import Axes3D\n",
    "\n",
    "from IPython.display import HTML, Image\n",
    "\n",
    "%matplotlib qt\n",
    "\n",
    "rc('animation', html='html5')"
   ]
  },
  {
   "cell_type": "code",
   "execution_count": 2,
   "metadata": {},
   "outputs": [
    {
     "name": "stdout",
     "output_type": "stream",
     "text": [
      "data/motion_data/files_motions_884/pour_and_mixing_normal_speed_03.c3d\n",
      "data/motion_data/files_motions_884/pour_and_mixing_normal_speed_01.c3d\n",
      "data/motion_data/files_motions_884/pour_and_mixing_normal_speed_02.c3d\n"
     ]
    }
   ],
   "source": [
    "# try to read c3d files\n",
    "folder_name = 'files_motions_884'\n",
    "cd3data_path = os.path.join('data', 'motion_data', folder_name)\n",
    "all_files = glob2.glob(cd3data_path+'/**/*[0-9].c3d', recursive=True)\n",
    "for files in all_files: \n",
    "    print(files)\n",
    "\n",
    "# read c3d file\n",
    "reader = c3d.Reader(open(all_files[0], 'rb'))"
   ]
  },
  {
   "cell_type": "markdown",
   "metadata": {},
   "source": [
    "### See information about marker points [here](https://motion-database.humanoids.kit.edu/marker_set/)"
   ]
  },
  {
   "cell_type": "code",
   "execution_count": 3,
   "metadata": {
    "scrolled": true
   },
   "outputs": [
    {
     "name": "stdout",
     "output_type": "stream",
     "text": [
      "[u'sponge_small:sponge_dry_01    ', u'sponge_small:sponge_dry_02    ', u'sponge_small:sponge_dry_03    ', u'sponge_small:sponge_dry_04    ', u'sponge_big:sponge_wet_01      ', u'sponge_big:sponge_wet_02      ', u'sponge_big:sponge_wet_03      ', u'sponge_big:sponge_wet_04      ', u'small_cup:sc_01               ', u'small_cup:sc_02               ', u'small_cup:sc_03               ', u'small_cup:sc_04               ', u'mixing_bowl_small:mbs_01      ', u'mixing_bowl_small:mbs_02      ', u'mixing_bowl_small:mbs_03      ', u'mixing_bowl_small:mbs_04      ', u'mixing_bowl_big:mb_01         ', u'mixing_bowl_big:mb_02         ', u'mixing_bowl_big:mb_03         ', u'mixing_bowl_big:mb_04         ', u'knife:knife_01                ', u'knife:knife_02                ', u'knife:knife_03                ', u'knife:knife_04                ', u'egg_whisk:ew_01               ', u'egg_whisk:ew_02               ', u'egg_whisk:ew_03               ', u'egg_whisk:ew_04               ', u'cooking_spoon:showerhead_01   ', u'cooking_spoon:showerhead_02   ', u'cooking_spoon:showerhead_03   ', u'cooking_spoon:showerhead_04   ', u'bottle:shampoo_01             ', u'bottle:shampoo_02             ', u'bottle:shampoo_03             ', u'bottle:shampoo_04             ', u'Table:table_1                 ', u'Table:table_2                 ', u'Table:table_3                 ', u'Table:table_4                 ', u'425:RPSI                      ', u'425:LPSI                      ', u'425:L3                        ', u'425:STRN                      ', u'425:T10                       ', u'425:C7                        ', u'425:CLAV                      ', u'425:RBAK                      ', u'425:LBAK                      ', u'425:LSHO                      ', u'425:LUPA                      ', u'425:LAEL                      ', u'425:LAOL                      ', u'425:LWTS                      ', u'425:LWPS                      ', u'425:LFRA                      ', u'425:LHPS                      ', u'425:LHTS                      ', u'425:RSHO                      ', u'425:RUPA                      ', u'425:RAEL                      ', u'425:RAOL                      ', u'425:RWTS                      ', u'425:RWPS                      ', u'425:RFRA                      ', u'425:RIFD                      ', u'425:RHTS                      ', u'425:RHPS                      ', u'425:RBHD                      ', u'425:LFHD                      ', u'425:RFHD                      ', u'425:LBHD                      ', u'425:LHIP                      ', u'425:RHIP                      ', u'425:RASI                      ', u'425:LASI                      ', u'425:LKNE                      ', u'425:LTHI                      ', u'425:LANK                      ', u'425:LTIP                      ', u'425:LTOE                      ', u'425:LMT1                      ', u'425:LMT5                      ', u'425:LHEE                      ', u'425:RKNE                      ', u'425:RTHI                      ', u'425:RANK                      ', u'425:RTIP                      ', u'425:RTOE                      ', u'425:RMT1                      ', u'425:RMT5                      ', u'425:RHEE                      ', u'425:LIFD                      ', u'*93                           ', u'*94                           ']\n"
     ]
    }
   ],
   "source": [
    "# reader.point_used\n",
    "point_labels = reader.point_labels\n",
    "# print(type(point_labels))\n",
    "print(reader.point_labels)"
   ]
  },
  {
   "cell_type": "code",
   "execution_count": 4,
   "metadata": {
    "scrolled": true
   },
   "outputs": [
    {
     "name": "stdout",
     "output_type": "stream",
     "text": [
      "[u'425:LSHO                      ', u'425:LUPA                      ', u'425:LAEL                      ', u'425:LAOL                      ', u'425:LWTS                      ', u'425:LWPS                      ', u'425:LFRA                      ']\n",
      "[u'425:RSHO                      ', u'425:RUPA                      ', u'425:RAEL                      ', u'425:RAOL                      ', u'425:RWTS                      ', u'425:RWPS                      ', u'425:RFRA                      ']\n",
      "[u'425:RWTS                      ', u'425:RWPS                      ']\n"
     ]
    }
   ],
   "source": [
    "# print(type(point_labels))\n",
    "# print(point_labels[:40])\n",
    "print(point_labels[49:56])\n",
    "print(point_labels[58:65])\n",
    "print(point_labels[62:64])"
   ]
  },
  {
   "cell_type": "raw",
   "metadata": {},
   "source": [
    "objs_id_end = 12\n",
    "lh_id_start = 21\n",
    "rh_id_start = 21\n",
    "traj_trace_point_start = 25"
   ]
  },
  {
   "cell_type": "code",
   "execution_count": 5,
   "metadata": {},
   "outputs": [],
   "source": [
    "objs_id_end = 40\n",
    "lh_id_start = 49\n",
    "rh_id_start = 58"
   ]
  },
  {
   "cell_type": "code",
   "execution_count": 6,
   "metadata": {
    "scrolled": true
   },
   "outputs": [],
   "source": [
    "# the marker points that we need\n",
    "# left_arm_markers = ['LSHO', 'LUPA', 'LAEL', 'LAOL', 'LWTS', 'LWPS', 'LIFD']\n",
    "# right_arm_markers = ['RSHO', 'RUPA', 'RAEL', 'RAOL', 'RWTS', 'RWPS', 'RIFD']\n",
    "# print(point_labels[:12])\n",
    "object_points_ids = list(range(objs_id_end))\n",
    "left_arm_points_ids = list(range(lh_id_start,lh_id_start+7)) #28\n",
    "right_arm_points_ids = list(range(rh_id_start,rh_id_start+7)) #38\n",
    "\n",
    "lh_traj_points_id = list(range(lh_id_start+4,lh_id_start+4+2))\n",
    "rh_traj_points_id = list(range(rh_id_start+4,rh_id_start+4+2))\n",
    "\n",
    "scene_groups_ids = [object_points_ids, left_arm_points_ids, right_arm_points_ids]\n",
    "traj_groups_ids = [lh_traj_points_id, rh_traj_points_id]"
   ]
  },
  {
   "cell_type": "code",
   "execution_count": 7,
   "metadata": {},
   "outputs": [],
   "source": [
    "# the following part seems expensive, but we have to read the frames one at a time\n",
    "scene_groups = []\n",
    "for group in scene_groups_ids:\n",
    "    group_points = []\n",
    "    for point_id in group:\n",
    "        point_marker = []\n",
    "        for i, points, analog in reader.read_frames():\n",
    "            point_marker.append(points[point_id][:3])\n",
    "        group_points.append(point_marker)\n",
    "    scene_groups.append(np.array(group_points))"
   ]
  },
  {
   "cell_type": "code",
   "execution_count": 8,
   "metadata": {},
   "outputs": [],
   "source": [
    "# for trajectory points that we want to trace\n",
    "traj_groups = []\n",
    "for group in traj_groups_ids:\n",
    "    traj_points = []\n",
    "    for point_id in group:\n",
    "        point_marker = []\n",
    "        for i, points, analog in reader.read_frames():\n",
    "            traj_mrkrs = points[point_id][:3]\n",
    "            point_marker.append(traj_mrkrs)\n",
    "        traj_points.append(point_marker)\n",
    "    traj_groups.append(np.array(traj_points))"
   ]
  },
  {
   "cell_type": "code",
   "execution_count": 9,
   "metadata": {},
   "outputs": [
    {
     "name": "stdout",
     "output_type": "stream",
     "text": [
      "[ 839.4598999   400.67034912  861.78747559]\n",
      "[ 789.38293457  370.97470093  859.44543457]\n",
      "[ 814.42141724  385.82252502  860.61645508]\n"
     ]
    }
   ],
   "source": [
    "# we want to create trace coordinates from the traj_points\n",
    "for group in traj_groups:\n",
    "    point_a = group[0]\n",
    "    point_b = group[1]\n",
    "    mid_point = (point_a + point_b)/2.0\n",
    "    \n",
    "print(point_a[0])\n",
    "print(point_b[0])\n",
    "print(mid_point[0])"
   ]
  },
  {
   "cell_type": "code",
   "execution_count": 10,
   "metadata": {},
   "outputs": [],
   "source": [
    "total_steps = len(mid_point)"
   ]
  },
  {
   "cell_type": "raw",
   "metadata": {},
   "source": [
    "# np.shape(mid_point)\n",
    "# np.shape(scene_groups[0][11])\n",
    "mid_point = scene_groups[2][7]"
   ]
  },
  {
   "cell_type": "code",
   "execution_count": 11,
   "metadata": {},
   "outputs": [
    {
     "data": {
      "text/plain": [
       "7"
      ]
     },
     "execution_count": 11,
     "metadata": {},
     "output_type": "execute_result"
    }
   ],
   "source": [
    "len(scene_groups[2])"
   ]
  },
  {
   "cell_type": "markdown",
   "metadata": {},
   "source": [
    "### visualize a frame"
   ]
  },
  {
   "cell_type": "raw",
   "metadata": {},
   "source": [
    "frame = object_points_array[:,0,:]\n",
    "x_data = frame[:,0]\n",
    "y_data = frame[:,1]\n",
    "z_data = frame[:,2]\n",
    "\n",
    "# plot joint positions\n",
    "fig = plt.figure()\n",
    "aax = fig.gca(projection='3d')\n",
    "\n",
    "aax.scatter(x_data, y_data, z_data)\n",
    "# aax.plot(x_data, y_data, z_data)\n",
    "\n",
    "aax.set_xlabel('x_axis')\n",
    "aax.set_ylabel('y_axis')\n",
    "aax.set_zlabel('z_axis')\n",
    "\n",
    "aax.azim = 180\n",
    "aax.elev = 10\n",
    "aax.autoscale()\n",
    "# aax.legend()\n",
    "\n",
    "# %matplotlib qt\n",
    "plt.show()"
   ]
  },
  {
   "cell_type": "markdown",
   "metadata": {},
   "source": [
    "### we are going to try to make animations of the arm movement"
   ]
  },
  {
   "cell_type": "code",
   "execution_count": 20,
   "metadata": {},
   "outputs": [],
   "source": [
    "grp_nos = 3\n",
    "def update_lines(num, dataLines, lines):\n",
    "    for i,groups in enumerate(scene_groups[:grp_nos]):\n",
    "        frame = groups[:,num,:]\n",
    "\n",
    "        x_data = frame[:,0]\n",
    "        y_data = frame[:,1]\n",
    "        z_data = frame[:,2]\n",
    "        graph_list[i]._offsets3d = (x_data, y_data, z_data)\n",
    "        \n",
    "    title.set_text('Wrist Path Trace, time step={}'.format(num))\n",
    "        \n",
    "    for line, data in zip(lines, dataLines):\n",
    "        # NOTE: there is no .set_data() for 3 dim data...\n",
    "        line.set_data(data[0:2, :num])\n",
    "        line.set_3d_properties(data[2, :num])\n",
    "    return lines\n",
    "\n",
    "# Attaching 3D axis to the figure\n",
    "fig = plt.figure()\n",
    "# ax = p3.Axes3D(fig)\n",
    "ax = fig.add_subplot(111, projection='3d')\n",
    "\n",
    "\n",
    "# the data\n",
    "data = [np.transpose(mid_point)]\n",
    "\n",
    "# NOTE: Can't pass empty arrays into 3d version of plot()\n",
    "lines = [ax.plot(dat[0, 0:1], dat[1, 0:1], dat[2, 0:1], linewidth=2)[0] for dat in data]\n",
    "\n",
    "# plot initial data for scatter points\n",
    "colours = ['r', 'b', 'g', 'k']\n",
    "graph_list = []\n",
    "for i, groups in enumerate(scene_groups[:grp_nos]):\n",
    "    x_data = groups[:,0,:][:,0]\n",
    "    y_data = groups[:,0,:][:,1]\n",
    "    z_data = groups[:,0,:][:,2]\n",
    "    graph = ax.scatter(x_data, y_data, z_data, c=colours[i])\n",
    "    graph_list.append(graph)\n",
    "\n",
    "title = ax.set_title('Wrist Path Trace')\n",
    "# Setting the axes properties\n",
    "ax.set_xlim3d([-1700.0, 0.0])\n",
    "ax.set_xlabel('X')\n",
    "\n",
    "ax.set_ylim3d([-600.0, 800.0])\n",
    "ax.set_ylabel('Y')\n",
    "\n",
    "ax.set_zlim3d([700.0, 1600.0])\n",
    "ax.set_zlabel('Z')\n",
    "ax.azim = 180\n",
    "ax.elev = 30\n",
    "\n",
    "# Creating the Animation object\n",
    "ani = animation.FuncAnimation(fig, update_lines, total_steps, fargs=(data, lines),\n",
    "                                   interval=0, blit=False)\n",
    "\n",
    "plt.show()\n",
    "\n",
    "# ani.save('data/media_outputs/'+folder_name+'_trace.mp4', writer=animation.FFMpegWriter(fps=30, bitrate=1000), fps=30)\n",
    "# ani.save('data/media_outputs/'+folder_name+'_trace.gif', writer='imagemagick', fps=30)"
   ]
  },
  {
   "cell_type": "markdown",
   "metadata": {},
   "source": [
    "### Visualize demo points only"
   ]
  },
  {
   "cell_type": "raw",
   "metadata": {},
   "source": [
    "grp_nos = 5\n",
    "def update_graph(num):\n",
    "    for i,groups in enumerate(scene_groups[:grp_nos]):\n",
    "        frame = groups[:,num,:]\n",
    "\n",
    "        x_data = frame[:,0]\n",
    "        y_data = frame[:,1]\n",
    "        z_data = frame[:,2]\n",
    "        graph_list[i]._offsets3d = (x_data, y_data, z_data)\n",
    "\n",
    "    title.set_text('Hand Demo, time step={}'.format(num))\n",
    "\n",
    "\n",
    "fig = plt.figure()\n",
    "ax = fig.add_subplot(111, projection='3d')\n",
    "\n",
    "# Setting the axes properties\n",
    "ax.set_xlim3d([-1700.0, 0.0])\n",
    "ax.set_xlabel('X')\n",
    "\n",
    "ax.set_ylim3d([-600.0, 800.0])\n",
    "ax.set_ylabel('Y')\n",
    "\n",
    "ax.set_zlim3d([700.0, 1600.0])\n",
    "ax.set_zlabel('Z')\n",
    "\n",
    "ax.azim = 180\n",
    "ax.elev = 10\n",
    "\n",
    "title = ax.set_title('Hand Demo')\n",
    "\n",
    "# plot initial data\n",
    "colours = ['r', 'b', 'g', 'k']\n",
    "graph_list = []\n",
    "for i, groups in enumerate(scene_groups[:grp_nos]):\n",
    "    x_data = groups[:,0,:][:,0]\n",
    "    y_data = groups[:,0,:][:,1]\n",
    "    z_data = groups[:,0,:][:,2]\n",
    "    graph = ax.scatter(x_data, y_data, z_data, c=colours[i])\n",
    "    graph_list.append(graph)\n",
    "    \n",
    "ani = matplotlib.animation.FuncAnimation(fig, update_graph, 831,\n",
    "                               interval=0, blit=False)\n",
    "\n",
    "# can save as mp4\n",
    "# ani.save('basic_animation.mp4', fps=30)\n",
    "# ani.save('data/media_outputs/separate_arms_demo.gif', writer='imagemagick', fps=30)\n",
    "\n",
    "plt.show()"
   ]
  },
  {
   "cell_type": "code",
   "execution_count": null,
   "metadata": {},
   "outputs": [],
   "source": [
    "# display image or animation through here:\n",
    "# Image(url='data/media_outputs/basic_animation.gif')"
   ]
  }
 ],
 "metadata": {
  "kernelspec": {
   "display_name": "Python 2",
   "language": "python",
   "name": "python2"
  },
  "language_info": {
   "codemirror_mode": {
    "name": "ipython",
    "version": 2
   },
   "file_extension": ".py",
   "mimetype": "text/x-python",
   "name": "python",
   "nbconvert_exporter": "python",
   "pygments_lexer": "ipython2",
   "version": "2.7.14"
  }
 },
 "nbformat": 4,
 "nbformat_minor": 2
}
