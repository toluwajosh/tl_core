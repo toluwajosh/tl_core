{
 "cells": [
  {
   "cell_type": "code",
   "execution_count": 1,
   "metadata": {},
   "outputs": [],
   "source": [
    "# libraries and settings\n",
    "import os\n",
    "import c3d\n",
    "import glob2\n",
    "import math\n",
    "import numpy as np\n",
    "# from mayavi.mlab import *\n",
    "import matplotlib as mpl\n",
    "import matplotlib.pyplot as plt\n",
    "# import matplotlib.animation as animation\n",
    "from matplotlib import animation, rc\n",
    "from mpl_toolkits.mplot3d import Axes3D\n",
    "\n",
    "from IPython.display import HTML, Image\n",
    "\n",
    "%matplotlib qt\n",
    "\n",
    "rc('animation', html='html5')"
   ]
  },
  {
   "cell_type": "code",
   "execution_count": 2,
   "metadata": {},
   "outputs": [
    {
     "name": "stdout",
     "output_type": "stream",
     "text": [
      "Loading files....\n",
      "data/motion_data/files_motions_589/pour02.c3d\n",
      "data/motion_data/files_motions_589/pour04.c3d\n",
      "data/motion_data/files_motions_589/pour03.c3d\n",
      "data/motion_data/files_motions_589/pour01.c3d\n",
      "data/motion_data/files_motions_589/pour05.c3d\n",
      "data/motion_data/files_motions_589/pour06.c3d\n"
     ]
    }
   ],
   "source": [
    "# try to read c3d files\n",
    "folder_name = 'files_motions_589'\n",
    "cd3data_path = os.path.join('data', 'motion_data', folder_name)\n",
    "all_files = glob2.glob(cd3data_path+'/**/*[0-9].c3d', recursive=True)\n",
    "\n",
    "print(\"Loading files....\")\n",
    "for files in all_files: \n",
    "    print(files)\n",
    "\n",
    "# read c3d file\n",
    "file_id = 0\n",
    "reader = c3d.Reader(open(all_files[file_id], 'rb'))"
   ]
  },
  {
   "cell_type": "markdown",
   "metadata": {},
   "source": [
    "### See information about marker points [here](https://motion-database.humanoids.kit.edu/marker_set/)"
   ]
  },
  {
   "cell_type": "raw",
   "metadata": {
    "scrolled": true
   },
   "source": [
    "# the marker points that we need\n",
    "# left_arm_markers = ['LSHO', 'LUPA', 'LAEL', 'LAOL', 'LWTS', 'LWPS', 'LIFD']\n",
    "# right_arm_markers = ['RSHO', 'RUPA', 'RAEL', 'RAOL', 'RWTS', 'RWPS', 'RIFD']\n",
    "\n",
    "# for some other folders with different objects\n",
    "objs_id_end = 40\n",
    "lh_id_start = 49\n",
    "rh_id_start = 58"
   ]
  },
  {
   "cell_type": "code",
   "execution_count": 3,
   "metadata": {},
   "outputs": [],
   "source": [
    "# function to read points from file\n",
    "def read_c3d(c3d_file, objs_id_end, rh_id_start, lh_id_start, verbose=False):\n",
    "    \"\"\"\n",
    "    read a c3d file and output the groups in the scene with the path of the end point\n",
    "    \"\"\"\n",
    "    # read file\n",
    "    reader = c3d.Reader(open(c3d_file, 'rb'))\n",
    "    \n",
    "    # reader.point_used\n",
    "    point_labels = reader.point_labels\n",
    "    dis = 8 # distance of the endpoint id\n",
    "    \n",
    "    if verbose:\n",
    "        print(\"\\nRight arm points:\")\n",
    "        print(point_labels[rh_id_start:rh_id_start+10])\n",
    "\n",
    "        print(\"\\nLeft arm points:\")\n",
    "        print(point_labels[lh_id_start:lh_id_start+10])\n",
    "\n",
    "        print(\"\\nEnd point markers:\")\n",
    "        print(point_labels[rh_id_start+dis:rh_id_start+dis+2])\n",
    "        print(point_labels[lh_id_start+dis:lh_id_start+dis+2])\n",
    "    \n",
    "    object_points_ids = list(range(objs_id_end))\n",
    "    left_arm_points_ids = list(range(lh_id_start,lh_id_start+10)) #28\n",
    "    right_arm_points_ids = list(range(rh_id_start,rh_id_start+10)) #38\n",
    "\n",
    "    lh_traj_points_id = list(range(lh_id_start+dis,lh_id_start+dis+2))\n",
    "    rh_traj_points_id = list(range(rh_id_start+dis,rh_id_start+dis+2))\n",
    "\n",
    "    scene_groups_ids = [object_points_ids, left_arm_points_ids, right_arm_points_ids]\n",
    "    traj_groups_ids = [lh_traj_points_id, rh_traj_points_id]\n",
    "    \n",
    "    # collect points of interest\n",
    "    scene_groups = []\n",
    "    for group in scene_groups_ids:\n",
    "        group_points = []\n",
    "        for point_id in group:\n",
    "            point_marker = []\n",
    "            for i, points, analog in reader.read_frames():\n",
    "                point_marker.append(points[point_id][:3])\n",
    "            group_points.append(point_marker)\n",
    "        scene_groups.append(np.array(group_points))\n",
    "        \n",
    "    # for trajectory points that we want to trace\n",
    "    traj_groups = []\n",
    "    for group in traj_groups_ids:\n",
    "        traj_points = []\n",
    "        for point_id in group:\n",
    "            point_marker = []\n",
    "            for i, points, analog in reader.read_frames():\n",
    "                traj_mrkrs = points[point_id][:3]\n",
    "                point_marker.append(traj_mrkrs)\n",
    "            traj_points.append(point_marker)\n",
    "        traj_groups.append(np.array(traj_points))\n",
    "    \n",
    "    # we want to create path from the traj_points\n",
    "    mid_points = []\n",
    "    for group in traj_groups:\n",
    "        point_a = group[0]\n",
    "        point_b = group[1]\n",
    "        mid_points.append((point_a + point_b)/2.0)\n",
    "\n",
    "    \n",
    "    \n",
    "    return scene_groups, mid_points"
   ]
  },
  {
   "cell_type": "code",
   "execution_count": 4,
   "metadata": {},
   "outputs": [],
   "source": [
    "# read c3d file\n",
    "objs_id_end = 12\n",
    "lh_id_start = 21\n",
    "rh_id_start = 31\n",
    "# dis = 8 # distance of the endpoint id\n",
    "\n",
    "all_scene_groups = []\n",
    "# all_mid_points = []\n",
    "lh_paths = []\n",
    "rh_paths = []\n",
    "for files in all_files:\n",
    "    scene_groups, mid_points = read_c3d(files, \n",
    "                                        objs_id_end, \n",
    "                                        rh_id_start, \n",
    "                                        lh_id_start,\n",
    "                                        verbose=0)\n",
    "    lh_paths.append(mid_points[0])\n",
    "    rh_paths.append(mid_points[1])"
   ]
  },
  {
   "cell_type": "markdown",
   "metadata": {},
   "source": [
    "important segments:\n",
    "\n",
    "0 -- [190:333], [333:460]"
   ]
  },
  {
   "cell_type": "code",
   "execution_count": 5,
   "metadata": {},
   "outputs": [],
   "source": [
    "# generic plot function\n",
    "def plot_3d(data_list, ax=None):\n",
    "    \"\"\"\n",
    "    data is a tuple of x, y, z\n",
    "    \"\"\"\n",
    "    if ax==None:\n",
    "        fig = plt.figure()\n",
    "        ax = fig.add_subplot(111, projection='3d')\n",
    "        ax.set_xlim3d([-1700.0, 0.0])\n",
    "        ax.set_xlabel('X')\n",
    "\n",
    "        ax.set_ylim3d([-600.0, 800.0])\n",
    "        ax.set_ylabel('Y')\n",
    "\n",
    "        ax.set_zlim3d([700.0, 1600.0])\n",
    "        ax.set_zlabel('Z')\n",
    "        ax.azim = 160 #200\n",
    "        ax.elev = 30\n",
    "    \n",
    "    for data in data_list:\n",
    "        x = data[:,0]\n",
    "        y = data[:,1]\n",
    "        z = data[:,2]\n",
    "        ax.plot(x, y, z)\n",
    "\n",
    "def plot_line(data, ln=None):\n",
    "    if ln==None:\n",
    "        fig = plt.figure()\n",
    "        ln = fig.add_subplot(111)\n",
    "    ln.plot(data)\n",
    "    return ln\n",
    "\n",
    "def plot_scatter(x, y, ln=None):\n",
    "    if ln==None:\n",
    "        fig = plt.figure()\n",
    "        ln = fig.add_subplot(111)\n",
    "    ln.scatter(x, y)\n",
    "    return ln"
   ]
  },
  {
   "cell_type": "code",
   "execution_count": 7,
   "metadata": {},
   "outputs": [],
   "source": [
    "# extract a sample path [190-270-330-450]\n",
    "sample_id = 0\n",
    "cut_point = 270\n",
    "segment_1 = rh_paths[sample_id][200:cut_point] # segment 1\n",
    "segment_2 = rh_paths[sample_id][cut_point:330] # segment 2\n",
    "segment_3 = rh_paths[sample_id][333:450] # returning trajectory\n",
    "\n",
    "t = np.array(range(200,cut_point))\n",
    "# print(np.shape(sample_line))\n",
    "\n",
    "\n",
    "pl = plot_3d([segment_1, segment_2, segment_3])\n",
    "# plot_3d(segment_2)"
   ]
  },
  {
   "cell_type": "raw",
   "metadata": {},
   "source": [
    "# we try to smooth the curves so that we can efficiently fit a cubic or quintic function onto the curve\n",
    "from scipy.signal import savgol_filter\n",
    "\n",
    "seg_1_smoothed = savgol_filter(segment_2[:,0], 5, 1)\n",
    "ln = plot_line(segment_2[:,0])\n",
    "plot_line(seg_1_smoothed, ln)\n",
    "\n",
    "# does not do much"
   ]
  },
  {
   "cell_type": "code",
   "execution_count": 8,
   "metadata": {},
   "outputs": [],
   "source": [
    "def cubic_func(t, a, b, c, d):\n",
    "    return a + b*t + c*t**2 + d*t**3 \n",
    "\n",
    "def poly_func(t, params):\n",
    "    y = params[0]\n",
    "    for i in range(1, len(params)):\n",
    "        y = y + (params[i]*t**i)\n",
    "    return y"
   ]
  },
  {
   "cell_type": "code",
   "execution_count": 20,
   "metadata": {},
   "outputs": [],
   "source": [
    "# analytical solution using the normal equation: (X^T*X)^-1*X^T*Y\n",
    "def solve_poly(var, t, order=3):\n",
    "    var_dim = np.shape(t)[0]\n",
    "#     T1 = np.zeros_like(t)+np.random.rand()**4\n",
    "    T1 = np.ones_like(t)\n",
    "    T2 = t\n",
    "    T_array = [T1, T2]\n",
    "    for i in range(2, order+1):\n",
    "        T_array.append(T2**i)\n",
    "    T=np.transpose(np.array(T_array))\n",
    "    T_transpose = np.transpose(T)\n",
    "    params = np.matmul(np.linalg.inv(np.matmul(T_transpose,T)), \n",
    "                       np.matmul(T_transpose, var))\n",
    "    new_x = poly_func(t, params)\n",
    "    \n",
    "    return new_x\n",
    "\n",
    "new_curve = []\n",
    "for axes in range(3):\n",
    "    var = segment_1[:,axes]\n",
    "    new_var = solve_poly(var, t, 3)\n",
    "    new_curve.append(new_var)\n",
    "\n",
    "ax = plot_3d([segment_1, np.transpose(new_curve)])"
   ]
  },
  {
   "cell_type": "code",
   "execution_count": 68,
   "metadata": {},
   "outputs": [
    {
     "data": {
      "text/plain": [
       "[]"
      ]
     },
     "execution_count": 68,
     "metadata": {},
     "output_type": "execute_result"
    }
   ],
   "source": [
    "# what if we split the trajectory into equal segments and try to approximate, \n",
    "# will the result be better?\n"
   ]
  },
  {
   "cell_type": "code",
   "execution_count": 51,
   "metadata": {},
   "outputs": [],
   "source": [
    "# try fit for x, y, and z\n",
    "import scipy.optimize as optimize\n",
    "\n",
    "t = np.arange(len(x))\n",
    "guess = (1,1,1,1)\n",
    "\n",
    "x = sample_line[:,0]\n",
    "curve_params = []\n",
    "new_curve = []\n",
    "for axes in range(3):\n",
    "    x = sample_line[:,axes]\n",
    "    # params = np.polyfit(t,x,2)\n",
    "    # new_x = np.poly1d(params)(t)\n",
    "    params, pcov = optimize.curve_fit(cubic_func, x, t)\n",
    "    new_x = cubic_func(t, *params)\n",
    "    new_curve.append(new_x)"
   ]
  },
  {
   "cell_type": "code",
   "execution_count": 53,
   "metadata": {},
   "outputs": [
    {
     "data": {
      "text/plain": [
       "<matplotlib.axes._subplots.AxesSubplot at 0x7fd76517ad10>"
      ]
     },
     "execution_count": 53,
     "metadata": {},
     "output_type": "execute_result"
    }
   ],
   "source": [
    "ln = plot_line(x)\n",
    "plot_line(new_curve[0], ln)"
   ]
  },
  {
   "cell_type": "code",
   "execution_count": 54,
   "metadata": {},
   "outputs": [
    {
     "name": "stdout",
     "output_type": "stream",
     "text": [
      "[ 15.60972135   1.00000727]\n"
     ]
    }
   ],
   "source": [
    "def quadratic(t, a, b):\n",
    "    return a + b*t**2\n",
    "\n",
    "time = np.arange(50)\n",
    "y = quadratic(time, 100, 1)\n",
    "\n",
    "params, pcov = optimize.curve_fit(quadratic, y, time)\n",
    "# ln = plot_line(y)\n",
    "plot_line(quadratic(time, *params))\n",
    "plot_scatter(time, quadratic(time, *params))\n",
    "print(params+1)"
   ]
  },
  {
   "cell_type": "code",
   "execution_count": 55,
   "metadata": {},
   "outputs": [],
   "source": [
    "file_id = 0\n",
    "scene_groups, mid_points = read_c3d(all_files[file_id], \n",
    "                                    objs_id_end, \n",
    "                                    rh_id_start, \n",
    "                                    lh_id_start,\n",
    "                                    verbose=0)\n",
    "# save mid_points data\n",
    "l_mid_point = mid_points[0]\n",
    "r_mid_point = mid_points[1]\n",
    "total_steps = len(l_mid_point)"
   ]
  },
  {
   "cell_type": "code",
   "execution_count": 56,
   "metadata": {},
   "outputs": [
    {
     "data": {
      "text/plain": [
       "(80, 3)"
      ]
     },
     "execution_count": 56,
     "metadata": {},
     "output_type": "execute_result"
    }
   ],
   "source": [
    "np.shape(sample_line)"
   ]
  },
  {
   "cell_type": "code",
   "execution_count": 52,
   "metadata": {},
   "outputs": [
    {
     "data": {
      "text/plain": [
       "143"
      ]
     },
     "execution_count": 52,
     "metadata": {},
     "output_type": "execute_result"
    }
   ],
   "source": [
    "np.shape(t)[0]"
   ]
  },
  {
   "cell_type": "markdown",
   "metadata": {},
   "source": [
    "### Visualize arm motion and path of the end point"
   ]
  },
  {
   "cell_type": "code",
   "execution_count": 79,
   "metadata": {},
   "outputs": [],
   "source": [
    "grp_nos = 3\n",
    "def update_lines(num, dataLines, lines):\n",
    "    for i,groups in enumerate(scene_groups[:grp_nos]):\n",
    "        frame = groups[:,num,:]\n",
    "\n",
    "        x_data = frame[:,0]\n",
    "        y_data = frame[:,1]\n",
    "        z_data = frame[:,2]\n",
    "        graph_list[i]._offsets3d = (x_data, y_data, z_data)\n",
    "        \n",
    "    title.set_text('Wrist Path Trace, time step={}'.format(num))\n",
    "        \n",
    "    for line, data in zip(lines, dataLines):\n",
    "        # NOTE: there is no .set_data() for 3 dim data...\n",
    "        line.set_data(data[0:2, :num])\n",
    "        line.set_3d_properties(data[2, :num])\n",
    "    return lines\n",
    "\n",
    "# Attaching 3D axis to the figure\n",
    "fig = plt.figure()\n",
    "# ax = p3.Axes3D(fig)\n",
    "ax = fig.add_subplot(111, projection='3d')\n",
    "\n",
    "\n",
    "# the data\n",
    "data = [np.transpose(r_mid_point)]\n",
    "\n",
    "# NOTE: Can't pass empty arrays into 3d version of plot()\n",
    "lines = [ax.plot(dat[0, 0:1], dat[1, 0:1], dat[2, 0:1], linewidth=2)[0] for dat in data]\n",
    "\n",
    "# plot initial data for scatter points\n",
    "colours = ['r', 'b', 'g', 'k']\n",
    "graph_list = []\n",
    "for i, groups in enumerate(scene_groups[:grp_nos]):\n",
    "    x_data = groups[:,0,:][:,0]\n",
    "    y_data = groups[:,0,:][:,1]\n",
    "    z_data = groups[:,0,:][:,2]\n",
    "    graph = ax.scatter(x_data, y_data, z_data, c=colours[i])\n",
    "    graph_list.append(graph)\n",
    "\n",
    "title = ax.set_title('Wrist Path Trace')\n",
    "# Setting the axes properties\n",
    "ax.set_xlim3d([-1700.0, 0.0])\n",
    "ax.set_xlabel('X')\n",
    "\n",
    "ax.set_ylim3d([-600.0, 800.0])\n",
    "ax.set_ylabel('Y')\n",
    "\n",
    "ax.set_zlim3d([700.0, 1600.0])\n",
    "ax.set_zlabel('Z')\n",
    "ax.azim = 160 #200\n",
    "ax.elev = 30\n",
    "\n",
    "# Creating the Animation object\n",
    "ani = animation.FuncAnimation(fig, update_lines, total_steps, fargs=(data, lines),\n",
    "                                   interval=0, blit=False)\n",
    "\n",
    "plt.show()\n",
    "\n"
   ]
  },
  {
   "cell_type": "raw",
   "metadata": {},
   "source": [
    "# save animation:\n",
    "ani.save('data/media_outputs/'+folder_name+'_trace_'+str(file_id)+'.mp4', writer=animation.FFMpegWriter(fps=30, bitrate=1000), fps=30)\n",
    "# ani.save('data/media_outputs/'+folder_name+'_trace.gif', writer='imagemagick', fps=30)"
   ]
  },
  {
   "cell_type": "code",
   "execution_count": null,
   "metadata": {
    "collapsed": true
   },
   "outputs": [],
   "source": [
    "# display image or animation through here:\n",
    "# Image(url='data/media_outputs/basic_animation.gif')"
   ]
  },
  {
   "cell_type": "code",
   "execution_count": null,
   "metadata": {
    "collapsed": true
   },
   "outputs": [],
   "source": [
    "# from: https://cs231n.github.io/optimization-1/\n",
    "def eval_numerical_gradient(f, x):\n",
    "  \"\"\" \n",
    "  a naive implementation of numerical gradient of f at x \n",
    "  - f should be a function that takes a single argument\n",
    "  - x is the point (numpy array) to evaluate the gradient at\n",
    "  \"\"\" \n",
    "\n",
    "  fx = f(x) # evaluate function value at original point\n",
    "  grad = np.zeros(x.shape)\n",
    "  h = 0.00001\n",
    "\n",
    "  # iterate over all indexes in x\n",
    "  it = np.nditer(x, flags=['multi_index'], op_flags=['readwrite'])\n",
    "  while not it.finished:\n",
    "\n",
    "    # evaluate function at x+h\n",
    "    ix = it.multi_index\n",
    "    old_value = x[ix]\n",
    "    x[ix] = old_value + h # increment by h\n",
    "    fxh = f(x) # evalute f(x + h)\n",
    "    x[ix] = old_value # restore to previous value (very important!)\n",
    "\n",
    "    # compute the partial derivative\n",
    "    grad[ix] = (fxh - fx) / h # the slope\n",
    "    it.iternext() # step to next dimension\n",
    "\n",
    "  return grad"
   ]
  }
 ],
 "metadata": {
  "kernelspec": {
   "display_name": "Python 2",
   "language": "python",
   "name": "python2"
  },
  "language_info": {
   "codemirror_mode": {
    "name": "ipython",
    "version": 2
   },
   "file_extension": ".py",
   "mimetype": "text/x-python",
   "name": "python",
   "nbconvert_exporter": "python",
   "pygments_lexer": "ipython2",
   "version": "2.7.14"
  }
 },
 "nbformat": 4,
 "nbformat_minor": 2
}
