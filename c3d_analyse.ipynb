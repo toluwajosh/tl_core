{
 "cells": [
  {
   "cell_type": "code",
   "execution_count": 125,
   "metadata": {},
   "outputs": [],
   "source": [
    "# libraries and settings\n",
    "import os\n",
    "import c3d\n",
    "import glob2\n",
    "import math\n",
    "import numpy as np\n",
    "from mayavi.mlab import *\n",
    "import matplotlib as mpl\n",
    "import matplotlib.pyplot as plt\n",
    "# import matplotlib.animation as animation\n",
    "from matplotlib import animation, rc\n",
    "from mpl_toolkits.mplot3d import Axes3D\n",
    "\n",
    "from IPython.display import HTML, Image\n",
    "\n",
    "%matplotlib qt\n",
    "\n",
    "rc('animation', html='html5')"
   ]
  },
  {
   "cell_type": "code",
   "execution_count": 21,
   "metadata": {},
   "outputs": [
    {
     "name": "stdout",
     "output_type": "stream",
     "text": [
      "data/motion_data/files_motions_589/pour02.c3d\n",
      "data/motion_data/files_motions_589/pour04.c3d\n",
      "data/motion_data/files_motions_589/pour03.c3d\n",
      "data/motion_data/files_motions_589/pour01.c3d\n",
      "data/motion_data/files_motions_589/pour05.c3d\n",
      "data/motion_data/files_motions_589/pour06.c3d\n"
     ]
    }
   ],
   "source": [
    "# try to read c3d files\n",
    "cd3data_path = os.path.join('data', 'motion_data', 'files_motions_589')\n",
    "all_files = glob2.glob(cd3data_path+'/**/*[0-9].c3d', recursive=True)\n",
    "for files in all_files: \n",
    "    print(files)\n",
    "\n",
    "# read c3d file\n",
    "reader = c3d.Reader(open(all_files[0], 'rb'))"
   ]
  },
  {
   "cell_type": "markdown",
   "metadata": {},
   "source": [
    "### See information about marker points [here](https://motion-database.humanoids.kit.edu/marker_set/)"
   ]
  },
  {
   "cell_type": "code",
   "execution_count": 130,
   "metadata": {},
   "outputs": [
    {
     "name": "stdout",
     "output_type": "stream",
     "text": [
      "[u'small_cup:sc_01               ', u'small_cup:sc_02               ', u'small_cup:sc_03               ', u'small_cup:sc_04               ', u'bottle:shampoo_01             ', u'bottle:shampoo_02             ', u'bottle:shampoo_03             ', u'bottle:shampoo_04             ', u'Table:table_1                 ', u'Table:table_2                 ', u'Table:table_3                 ', u'Table:table_4                 ', u'subjX:RPSI                    ', u'subjX:LPSI                    ', u'subjX:L3                      ', u'subjX:STRN                    ', u'subjX:T10                     ', u'subjX:C7                      ', u'subjX:CLAV                    ', u'subjX:RBAK                    ', u'subjX:LBAK                    ', u'subjX:LSHO                    ', u'subjX:LUPA                    ', u'subjX:LAEL                    ', u'subjX:LAOL                    ', u'subjX:LWTS                    ', u'subjX:LWPS                    ', u'subjX:LFRA                    ', u'subjX:LIFD                    ', u'subjX:LHPS                    ', u'subjX:LHTS                    ', u'subjX:RSHO                    ', u'subjX:RUPA                    ', u'subjX:RAEL                    ', u'subjX:RAOL                    ', u'subjX:RWTS                    ', u'subjX:RWPS                    ', u'subjX:RFRA                    ', u'subjX:RIFD                    ', u'subjX:RHTS                    ', u'subjX:RHPS                    ', u'subjX:RBHD                    ', u'subjX:LFHD                    ', u'subjX:RFHD                    ', u'subjX:LBHD                    ', u'subjX:LHIP                    ', u'subjX:RHIP                    ', u'subjX:RASI                    ', u'subjX:LASI                    ', u'subjX:LKNE                    ', u'subjX:LTHI                    ', u'subjX:LANK                    ', u'subjX:LTIP                    ', u'subjX:LTOE                    ', u'subjX:LMT1                    ', u'subjX:LMT5                    ', u'subjX:LHEE                    ', u'subjX:RKNE                    ', u'subjX:RTHI                    ', u'subjX:RANK                    ', u'subjX:RTIP                    ', u'subjX:RTOE                    ', u'subjX:RMT1                    ', u'subjX:RMT5                    ', u'subjX:RHEE                    ']\n"
     ]
    }
   ],
   "source": [
    "# reader.point_used\n",
    "point_labels = reader.point_labels\n",
    "# print(type(point_labels))\n",
    "print(reader.point_labels)"
   ]
  },
  {
   "cell_type": "code",
   "execution_count": 23,
   "metadata": {
    "scrolled": true
   },
   "outputs": [
    {
     "name": "stdout",
     "output_type": "stream",
     "text": [
      "10\n"
     ]
    }
   ],
   "source": [
    "# the marker points that we need\n",
    "# left_arm_markers = ['LSHO', 'LUPA', 'LAEL', 'LAOL', 'LWTS', 'LWPS', 'LIFD']\n",
    "# right_arm_markers = ['RSHO', 'RUPA', 'RAEL', 'RAOL', 'RWTS', 'RWPS', 'RIFD']\n",
    "left_arm_points_ids = list(range(21,31))\n",
    "right_arm_points_ids = list(range(31,41))"
   ]
  },
  {
   "cell_type": "code",
   "execution_count": 103,
   "metadata": {},
   "outputs": [],
   "source": [
    "right_arm_points = []\n",
    "for point_id in right_arm_points_ids:\n",
    "    point_marker = []\n",
    "    for i, points, analog in reader.read_frames():\n",
    "        point_marker.append(points[point_id][:3])\n",
    "    right_arm_points.append(point_marker)"
   ]
  },
  {
   "cell_type": "code",
   "execution_count": 104,
   "metadata": {},
   "outputs": [
    {
     "name": "stdout",
     "output_type": "stream",
     "text": [
      "(10, 831, 3)\n"
     ]
    }
   ],
   "source": [
    "points_array = np.array(right_arm_points)\n",
    "print(np.shape(points_array))"
   ]
  },
  {
   "cell_type": "markdown",
   "metadata": {},
   "source": [
    "### visualize a frame"
   ]
  },
  {
   "cell_type": "code",
   "execution_count": 26,
   "metadata": {},
   "outputs": [],
   "source": [
    "frame = points_array[:,0,:]\n",
    "x_data = frame[:,0]\n",
    "y_data = frame[:,1]\n",
    "z_data = frame[:,2]"
   ]
  },
  {
   "cell_type": "code",
   "execution_count": 131,
   "metadata": {},
   "outputs": [],
   "source": [
    "# plot joint positions\n",
    "fig = plt.figure()\n",
    "aax = fig.gca(projection='3d')\n",
    "\n",
    "aax.scatter(x_data, y_data, z_data)\n",
    "# aax.plot(x_data, y_data, z_data)\n",
    "\n",
    "aax.set_xlabel('x_axis')\n",
    "aax.set_ylabel('y_axis')\n",
    "aax.set_zlabel('z_axis')\n",
    "\n",
    "aax.azim = 180\n",
    "aax.elev = 10\n",
    "aax.autoscale()\n",
    "# aax.legend()\n",
    "\n",
    "# %matplotlib qt\n",
    "plt.show()"
   ]
  },
  {
   "cell_type": "markdown",
   "metadata": {},
   "source": [
    "### we are going to try to make animations of the arm movement"
   ]
  },
  {
   "cell_type": "markdown",
   "metadata": {},
   "source": [
    "example:"
   ]
  },
  {
   "cell_type": "code",
   "execution_count": 132,
   "metadata": {},
   "outputs": [],
   "source": [
    "import numpy as np\n",
    "from matplotlib import pyplot as plt\n",
    "from mpl_toolkits.mplot3d import Axes3D\n",
    "import matplotlib.animation\n",
    "import pandas as pd\n",
    "\n",
    "\n",
    "a = np.random.rand(2000, 3)*10\n",
    "t = np.array([np.ones(100)*i for i in range(20)]).flatten()\n",
    "df = pd.DataFrame({\"time\": t ,\"x\" : a[:,0], \"y\" : a[:,1], \"z\" : a[:,2]})\n",
    "\n",
    "def update_graph(num):\n",
    "    data=df[df['time']==num]\n",
    "    graph._offsets3d = (data.x, data.y, data.z)\n",
    "    title.set_text('3D Test, time={}'.format(num))\n",
    "\n",
    "\n",
    "fig = plt.figure()\n",
    "ax = fig.add_subplot(111, projection='3d')\n",
    "title = ax.set_title('3D Test')\n",
    "\n",
    "data=df[df['time']==0]\n",
    "graph = ax.scatter(data.x, data.y, data.z)\n",
    "\n",
    "ani = matplotlib.animation.FuncAnimation(fig, update_graph, 19, \n",
    "                               interval=40, blit=False)\n",
    "\n",
    "plt.show()"
   ]
  },
  {
   "cell_type": "code",
   "execution_count": 133,
   "metadata": {},
   "outputs": [],
   "source": [
    "def update_graph(num):\n",
    "    frame = points_array[:,num,:]\n",
    "    x_data = frame[:,0]\n",
    "    y_data = frame[:,1]\n",
    "    z_data = frame[:,2]\n",
    "    graph._offsets3d = (x_data, y_data, z_data)\n",
    "    title.set_text('Right Hand Demo, time step={}'.format(num))\n",
    "\n",
    "\n",
    "fig = plt.figure()\n",
    "ax = fig.add_subplot(111, projection='3d')\n",
    "\n",
    "# Setting the axes properties\n",
    "ax.set_xlim3d([-500.0, 200.0])\n",
    "ax.set_xlabel('X')\n",
    "\n",
    "ax.set_ylim3d([-100.0, 600.0])\n",
    "ax.set_ylabel('Y')\n",
    "\n",
    "ax.set_zlim3d([500.0, 1500.0])\n",
    "ax.set_zlabel('Z')\n",
    "\n",
    "ax.azim = 180\n",
    "ax.elev = 10\n",
    "\n",
    "title = ax.set_title('3D Test')\n",
    "\n",
    "# plot initial data\n",
    "x_data = points_array[:,0,:][:,0]\n",
    "y_data = points_array[:,0,:][:,1]\n",
    "z_data = points_array[:,0,:][:,2]\n",
    "\n",
    "graph = ax.scatter(x_data, y_data, z_data)\n",
    "\n",
    "ani = matplotlib.animation.FuncAnimation(fig, update_graph, 831,\n",
    "                               interval=1, blit=False)\n",
    "\n",
    "# can save as mp4\n",
    "# ani.save('basic_animation.mp4', fps=30)\n",
    "# ani.save('data/media_outputs/basic_animation.gif', writer='imagemagick', fps=30)\n",
    "\n",
    "plt.show()"
   ]
  },
  {
   "cell_type": "code",
   "execution_count": 128,
   "metadata": {},
   "outputs": [],
   "source": [
    "# display image or animation through here:\n",
    "# Image(url='data/media_outputs/basic_animation.gif')"
   ]
  }
 ],
 "metadata": {
  "kernelspec": {
   "display_name": "Python 2",
   "language": "python",
   "name": "python2"
  },
  "language_info": {
   "codemirror_mode": {
    "name": "ipython",
    "version": 2
   },
   "file_extension": ".py",
   "mimetype": "text/x-python",
   "name": "python",
   "nbconvert_exporter": "python",
   "pygments_lexer": "ipython2",
   "version": "2.7.14"
  }
 },
 "nbformat": 4,
 "nbformat_minor": 2
}
